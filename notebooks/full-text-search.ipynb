{
 "cells": [
  {
   "cell_type": "code",
   "execution_count": 46,
   "metadata": {},
   "outputs": [],
   "source": [
    "from whoosh.index import create_in, open_dir\n",
    "from whoosh.fields import Schema, TEXT, ID\n",
    "from whoosh.qparser import QueryParser, FuzzyTermPlugin\n",
    "import os\n",
    "\n",
    "\n",
    "import requests"
   ]
  },
  {
   "cell_type": "code",
   "execution_count": 35,
   "metadata": {},
   "outputs": [],
   "source": [
    "def create_search_index(directory):\n",
    "    schema = Schema(title=ID(stored=True), content=TEXT)\n",
    "    if not os.path.exists(\"indexdir\"):\n",
    "        os.mkdir(\"indexdir\")\n",
    "    ix = create_in(\"indexdir\", schema)\n",
    "    writer = ix.writer()\n",
    "    \n",
    "    for filename in os.listdir(directory):\n",
    "        if filename.endswith(\".txt\"):\n",
    "            with open(os.path.join(directory, filename), 'r', encoding='utf-8') as file:\n",
    "                content = file.read()\n",
    "                writer.add_document(title=filename, content=content)\n",
    "    \n",
    "    writer.commit()\n",
    "\n",
    "def search_in_index(search_pattern):\n",
    "    result_files = []\n",
    "    ix = open_dir(\"indexdir\")\n",
    "    with ix.searcher() as searcher:\n",
    "        query = QueryParser(\"content\", ix.schema).parse(search_pattern)\n",
    "        results = searcher.search(query)\n",
    "        for result in results:\n",
    "            result_files.append(result['title'])\n",
    "\n",
    "    return result_files\n",
    "\n",
    "\n",
    "def search_in_index_2(search_pattern):\n",
    "    result_files = []\n",
    "    ix = open_dir(\"indexdir\")\n",
    "    with ix.searcher() as searcher:\n",
    "        parser = QueryParser(\"content\", ix.schema)\n",
    "        parser.add_plugin(FuzzyTermPlugin())\n",
    "        query = parser.parse(f\"{search_pattern}~2\")  # \"~2\" makes it a fuzzy query with a max edit distance of 2\n",
    "        results = searcher.search(query)\n",
    "        for result in results:\n",
    "            result_files.append(result['title'])\n",
    "    return result_files"
   ]
  },
  {
   "cell_type": "code",
   "execution_count": 36,
   "metadata": {},
   "outputs": [],
   "source": [
    "directory_path = '../data/rag/files'\n",
    "create_search_index(directory_path)"
   ]
  },
  {
   "cell_type": "code",
   "execution_count": 44,
   "metadata": {},
   "outputs": [],
   "source": [
    "search_query = 'я хочу изменить сроки выполнения через доп соглашение'\n",
    "search_pattern = 'сроки'\n",
    "search_results = search_in_index(search_pattern)"
   ]
  },
  {
   "cell_type": "code",
   "execution_count": null,
   "metadata": {},
   "outputs": [],
   "source": [
    "search_results"
   ]
  },
  {
   "cell_type": "code",
   "execution_count": null,
   "metadata": {},
   "outputs": [],
   "source": [
    "def read_file(file_path):\n",
    "    with open(file_path, 'r') as f:\n",
    "        return f.read()\n",
    "    \n",
    "context = read_file(os.path.join(directory_path, search_results[0]))"
   ]
  },
  {
   "cell_type": "code",
   "execution_count": null,
   "metadata": {},
   "outputs": [],
   "source": []
  }
 ],
 "metadata": {
  "kernelspec": {
   "display_name": "Python 3",
   "language": "python",
   "name": "python3"
  },
  "language_info": {
   "codemirror_mode": {
    "name": "ipython",
    "version": 3
   },
   "file_extension": ".py",
   "mimetype": "text/x-python",
   "name": "python",
   "nbconvert_exporter": "python",
   "pygments_lexer": "ipython3",
   "version": "3.8.10"
  }
 },
 "nbformat": 4,
 "nbformat_minor": 2
}
