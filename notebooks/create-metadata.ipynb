{
 "cells": [
  {
   "cell_type": "code",
   "execution_count": 34,
   "metadata": {},
   "outputs": [],
   "source": [
    "import os\n",
    "import requests"
   ]
  },
  {
   "cell_type": "code",
   "execution_count": null,
   "metadata": {},
   "outputs": [],
   "source": [
    "# replace after you deploy your llm (deploy_llm.py)\n",
    "LLM_HOST = \"\"\n",
    "LLM_PORT = \"\""
   ]
  },
  {
   "cell_type": "code",
   "execution_count": 35,
   "metadata": {},
   "outputs": [],
   "source": [
    "prompt = \"\"\"\n",
    "Тебе нужно проанализировать документ и извлечь следующие переменные в виде JSON ответа\n",
    "\n",
    "Документ представляет собой договор между поставщиком и заказчиком на какую либо закупку\n",
    "\n",
    "Извлеки только те переменные которые находятся в тексте и выведи в виде JSON объекта без markdown\n",
    "\n",
    "Нужен только JSON, больше ничего писать не надо\n",
    "\n",
    "Проверь, что результирующий JSON корректен ДОБавь закрывающую фигурную скобку, если её нет\n",
    "\n",
    "Если какой-либо переменной не нашлось, то не добавляй ключ в JSON\n",
    "\n",
    "Старайся приводить значения существующих переменных к именительному падежу\n",
    "\n",
    "Переменные для реквизитов:\n",
    "contract_date - дата контракта [ 26.04.2024 ]\n",
    "contract_number - номер контракта [ 62143 ]\n",
    "customer_name - название заказчика [ Муниципальное бюджетное общеобразовательное учреждение «Средняя общеобразовательная школа №5» муниципального образования город Ноябрьск ]\n",
    "customer_agent - должность представителя заказчика [ директора ]\n",
    "customer_agent_name - ФИО представителя заказчика [ Савенковой  Оксаны  Васильевны ] \n",
    "customer_act - на основании чего действует заказчик [ Приказа № 01-05-1053/24 от 20.06.2024 ]\n",
    "supplier_name - название поставщика [ Общество сограниченной ответственностью \"Омега-Консалтинг\" ]\n",
    "supplier_agent - должность представителя поставщика [ директора ]\n",
    "supplier_agent_name - ФИО представителя поставщика [ Савенковой  Оксаны  Васильевны ]\n",
    "supplier_act - на основании чего действует поставщик [ Приказа № 01-05-1053/24 от 20.06.2024 ]\n",
    "city - город [г. Москва]\n",
    "article_details_number - номер главы в которой лежат реквизиты [15]\n",
    "article_details_name - название главы в которой лежат реквизиты [Адреса, реквизиты и подписи Сторон]\n",
    "\n",
    "{document}\n",
    "\"\"\""
   ]
  },
  {
   "cell_type": "code",
   "execution_count": null,
   "metadata": {},
   "outputs": [],
   "source": [
    "dir = \"../contract/file/storage/plain_text\"\n",
    "\n",
    "metadata_list = {}\n",
    "for file in os.listdir(dir):\n",
    "    if \"2.txt\" not in file:\n",
    "        continue\n",
    "\n",
    "    with open(os.path.join(dir, file), 'r') as f:\n",
    "        file_text = f.read()\n",
    "\n",
    "    # Разбиваем текст на чанки\n",
    "    chunks = [file_text[i:i + 5000] for i in range(0, len(file_text), 5000)]\n",
    "    \n",
    "    all_metadata = []\n",
    "    for chunk in chunks:\n",
    "        final_prompt = prompt.format(document=chunk)\n",
    "\n",
    "        payload = {\n",
    "            \"prompt\": final_prompt\n",
    "        }\n",
    "\n",
    "        response = requests.post(f\"http://{LLM_HOST}:{LLM_PORT}/request\", json=payload)\n",
    "        \n",
    "        # Предполагая, что в результате может быть несколько метаданных, добавляем их все в один список\n",
    "        all_metadata.append(response.json().get('result', {}))\n",
    "\n",
    "    metadata_list[file] = all_metadata"
   ]
  },
  {
   "cell_type": "code",
   "execution_count": null,
   "metadata": {},
   "outputs": [],
   "source": [
    "metadata_list.items()"
   ]
  },
  {
   "cell_type": "code",
   "execution_count": null,
   "metadata": {},
   "outputs": [],
   "source": [
    "import json\n",
    "\n",
    "\n",
    "for name, metadata in metadata_list.items():\n",
    "    \n",
    "    try:\n",
    "        json_dict = json.loads(metadata.replace(\"```json\", \"\").replace(\"```\", \"\"))\n",
    "        with open(os.path.join(dir, name.replace(\".txt\", '.json')), 'w') as f:\n",
    "            json.dump(json_dict, f, ensure_ascii=False, indent=4)\n",
    "    except:\n",
    "        print(metadata)"
   ]
  }
 ],
 "metadata": {
  "kernelspec": {
   "display_name": "Python 3",
   "language": "python",
   "name": "python3"
  },
  "language_info": {
   "codemirror_mode": {
    "name": "ipython",
    "version": 3
   },
   "file_extension": ".py",
   "mimetype": "text/x-python",
   "name": "python",
   "nbconvert_exporter": "python",
   "pygments_lexer": "ipython3",
   "version": "3.8.10"
  }
 },
 "nbformat": 4,
 "nbformat_minor": 2
}
